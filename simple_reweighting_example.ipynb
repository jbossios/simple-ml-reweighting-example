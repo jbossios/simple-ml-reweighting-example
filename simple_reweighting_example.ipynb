{
 "cells": [
  {
   "cell_type": "code",
   "execution_count": 1,
   "id": "7daf4432",
   "metadata": {},
   "outputs": [],
   "source": [
    "import torch\n",
    "import numpy as np\n",
    "import matplotlib.pyplot as plt\n",
    "from typing import Tuple, List\n",
    "import random"
   ]
  },
  {
   "cell_type": "code",
   "execution_count": 2,
   "id": "aa9df1ce",
   "metadata": {},
   "outputs": [
    {
     "name": "stdout",
     "output_type": "stream",
     "text": [
      "xa[:3] = [11.735761615631901, 11.314865966419008, 11.358432537016402]\n"
     ]
    },
    {
     "data": {
      "image/png": "[encoded data removed]",
      "text/plain": [
       "<Figure size 432x288 with 1 Axes>"
      ]
     },
     "metadata": {
      "needs_background": "light"
     },
     "output_type": "display_data"
    },
    {
     "name": "stdout",
     "output_type": "stream",
     "text": [
      "xb[:3] = [10.11783560660273, 12.180952582695847, 9.536368062864385]\n"
     ]
    },
    {
     "data": {
      "image/png": "[encoded data removed]",
      "text/plain": [
       "<Figure size 432x288 with 1 Axes>"
      ]
     },
     "metadata": {
      "needs_background": "light"
     },
     "output_type": "display_data"
    },
    {
     "name": "stdout",
     "output_type": "stream",
     "text": [
      "x = array([10.0001956 , 10.1578901 ,  9.99274661, ...,  9.8954312 ,\n",
      "       11.0583857 , 11.57585696])\n",
      "y = array([1., 1., 1., ..., 0., 0., 1.])\n"
     ]
    }
   ],
   "source": [
    "def gen_data(n: int = 1000, shuffle: bool = True, plot: bool = False, debug: bool = False) -> Tuple[List[float], List[float]]:\n",
    "    \"\"\"Generate n xa, xb numbers from Gaussian distributions\n",
    "    n xa numbers generated from Gaus(10, 1)\n",
    "    n xb numbers generated from Gaus(11, 1))\"\"\"\n",
    "    xa = [np.random.normal(10, 1) for i in range(n)]\n",
    "    ya = np.zeros_like(xa)\n",
    "    if debug:\n",
    "        print(f'{xa[:3] = }')\n",
    "    if plot:\n",
    "        c, _, _ = plt.hist(xa)\n",
    "        plt.show()\n",
    "\n",
    "    xb = [np.random.normal(11, 1) for i in range(n)]\n",
    "    yb = np.ones_like(xb)\n",
    "    if debug:\n",
    "        print(f'{xb[:3] = }')\n",
    "    if plot:\n",
    "        c, _, _ = plt.hist(xb)\n",
    "        plt.show()\n",
    "        \n",
    "    x = np.concatenate([xa,xb]) # targets\n",
    "    y = np.concatenate([ya,yb]) # labels\n",
    "    \n",
    "    # Shuffle coherently\n",
    "    if shuffle:\n",
    "        seed = random.randrange(10000)\n",
    "        random.seed(seed)\n",
    "        random.shuffle(x)\n",
    "        random.seed(seed)\n",
    "        random.shuffle(y)\n",
    "    \n",
    "    if debug:\n",
    "        print(f'{x = }')\n",
    "        print(f'{y = }')\n",
    "    return x, y\n",
    "\n",
    "# Testing\n",
    "_, _ = gen_data(1000, True, True, True)"
   ]
  },
  {
   "cell_type": "code",
   "execution_count": 3,
   "id": "3a92ff75",
   "metadata": {},
   "outputs": [
    {
     "name": "stdout",
     "output_type": "stream",
     "text": [
      "Sequential(\n",
      "  (0): Linear(in_features=1, out_features=100, bias=True)\n",
      "  (1): ReLU()\n",
      "  (2): Linear(in_features=100, out_features=100, bias=True)\n",
      "  (3): ReLU()\n",
      "  (4): Linear(in_features=100, out_features=1, bias=True)\n",
      "  (5): Sigmoid()\n",
      ")\n"
     ]
    }
   ],
   "source": [
    "# Make model\n",
    "\n",
    "import torch.nn as nn\n",
    "\n",
    "model = nn.Sequential(\n",
    "    nn.Linear(1, 100),\n",
    "    nn.ReLU(),\n",
    "    nn.Linear(100, 100),\n",
    "    nn.ReLU(),\n",
    "    nn.Linear(100, 1),\n",
    "    nn.Sigmoid()\n",
    ")\n",
    "\n",
    "# Print model\n",
    "print(model)\n",
    "\n",
    "loss = nn.BCELoss()\n",
    "\n",
    "from torch.optim import Adam\n",
    "\n",
    "opt = Adam(model.parameters(), lr = 1e-4) # lr: learning rate"
   ]
  },
  {
   "cell_type": "code",
   "execution_count": 4,
   "id": "12a424c2",
   "metadata": {},
   "outputs": [
    {
     "name": "stdout",
     "output_type": "stream",
     "text": [
      "x = array([[ 7.75693517],\n",
      "       [10.32249006],\n",
      "       [ 7.36695664],\n",
      "       [11.42669363],\n",
      "       [11.63822148],\n",
      "       [ 9.50979549],\n",
      "       [11.01891248],\n",
      "       [12.19899472],\n",
      "       [12.14915498],\n",
      "       [10.39506637]])\n",
      "y = array([[0.],\n",
      "       [1.],\n",
      "       [0.],\n",
      "       [1.],\n",
      "       [1.],\n",
      "       [0.],\n",
      "       [0.],\n",
      "       [1.],\n",
      "       [1.],\n",
      "       [0.]])\n"
     ]
    }
   ],
   "source": [
    "# Generate and prepare data\n",
    "\n",
    "def get_batch_data(batch_size: int = 2048, debug: bool = False) -> Tuple[np.ndarray, np.ndarray]:\n",
    "    x, y = gen_data(batch_size)\n",
    "    len_x = len(x)\n",
    "    x = np.array(x).reshape(len_x, 1)\n",
    "    y = np.array(y).reshape(len_x, 1)\n",
    "    if debug:\n",
    "        print(f'{x = }')\n",
    "        print(f'{y = }')\n",
    "    return x, y # targets, labels\n",
    "\n",
    "# Testing\n",
    "_, _ = get_batch_data(5, True)"
   ]
  },
  {
   "cell_type": "code",
   "execution_count": 5,
   "id": "dbefb5ce",
   "metadata": {},
   "outputs": [
    {
     "name": "stdout",
     "output_type": "stream",
     "text": [
      "tensor(1.3304, grad_fn=<BinaryCrossEntropyBackward>)\n",
      "tensor(0.6906, grad_fn=<BinaryCrossEntropyBackward>)\n",
      "tensor(0.6893, grad_fn=<BinaryCrossEntropyBackward>)\n",
      "tensor(0.6872, grad_fn=<BinaryCrossEntropyBackward>)\n",
      "tensor(0.6849, grad_fn=<BinaryCrossEntropyBackward>)\n",
      "tensor(0.6832, grad_fn=<BinaryCrossEntropyBackward>)\n",
      "tensor(0.6796, grad_fn=<BinaryCrossEntropyBackward>)\n",
      "tensor(0.6763, grad_fn=<BinaryCrossEntropyBackward>)\n",
      "tensor(0.6725, grad_fn=<BinaryCrossEntropyBackward>)\n",
      "tensor(0.6696, grad_fn=<BinaryCrossEntropyBackward>)\n",
      "tensor(0.6647, grad_fn=<BinaryCrossEntropyBackward>)\n",
      "tensor(0.6604, grad_fn=<BinaryCrossEntropyBackward>)\n",
      "tensor(0.6564, grad_fn=<BinaryCrossEntropyBackward>)\n",
      "tensor(0.6454, grad_fn=<BinaryCrossEntropyBackward>)\n",
      "tensor(0.6371, grad_fn=<BinaryCrossEntropyBackward>)\n",
      "tensor(0.6332, grad_fn=<BinaryCrossEntropyBackward>)\n",
      "tensor(0.6240, grad_fn=<BinaryCrossEntropyBackward>)\n",
      "tensor(0.6128, grad_fn=<BinaryCrossEntropyBackward>)\n",
      "tensor(0.6098, grad_fn=<BinaryCrossEntropyBackward>)\n",
      "tensor(0.6038, grad_fn=<BinaryCrossEntropyBackward>)\n",
      "tensor(0.5907, grad_fn=<BinaryCrossEntropyBackward>)\n",
      "tensor(0.5860, grad_fn=<BinaryCrossEntropyBackward>)\n",
      "tensor(0.5906, grad_fn=<BinaryCrossEntropyBackward>)\n",
      "tensor(0.5811, grad_fn=<BinaryCrossEntropyBackward>)\n",
      "tensor(0.5721, grad_fn=<BinaryCrossEntropyBackward>)\n",
      "tensor(0.5744, grad_fn=<BinaryCrossEntropyBackward>)\n",
      "tensor(0.5905, grad_fn=<BinaryCrossEntropyBackward>)\n",
      "tensor(0.5874, grad_fn=<BinaryCrossEntropyBackward>)\n",
      "tensor(0.5770, grad_fn=<BinaryCrossEntropyBackward>)\n",
      "tensor(0.5802, grad_fn=<BinaryCrossEntropyBackward>)\n",
      "tensor(0.5832, grad_fn=<BinaryCrossEntropyBackward>)\n",
      "tensor(0.5847, grad_fn=<BinaryCrossEntropyBackward>)\n",
      "tensor(0.5834, grad_fn=<BinaryCrossEntropyBackward>)\n",
      "tensor(0.5765, grad_fn=<BinaryCrossEntropyBackward>)\n",
      "tensor(0.5842, grad_fn=<BinaryCrossEntropyBackward>)\n",
      "tensor(0.5846, grad_fn=<BinaryCrossEntropyBackward>)\n",
      "tensor(0.5913, grad_fn=<BinaryCrossEntropyBackward>)\n",
      "tensor(0.5855, grad_fn=<BinaryCrossEntropyBackward>)\n",
      "tensor(0.5885, grad_fn=<BinaryCrossEntropyBackward>)\n",
      "tensor(0.5828, grad_fn=<BinaryCrossEntropyBackward>)\n",
      "tensor(0.5844, grad_fn=<BinaryCrossEntropyBackward>)\n",
      "tensor(0.5781, grad_fn=<BinaryCrossEntropyBackward>)\n",
      "tensor(0.5943, grad_fn=<BinaryCrossEntropyBackward>)\n",
      "tensor(0.5841, grad_fn=<BinaryCrossEntropyBackward>)\n",
      "tensor(0.5795, grad_fn=<BinaryCrossEntropyBackward>)\n",
      "tensor(0.5801, grad_fn=<BinaryCrossEntropyBackward>)\n",
      "tensor(0.5820, grad_fn=<BinaryCrossEntropyBackward>)\n",
      "tensor(0.5896, grad_fn=<BinaryCrossEntropyBackward>)\n",
      "tensor(0.5748, grad_fn=<BinaryCrossEntropyBackward>)\n",
      "tensor(0.5848, grad_fn=<BinaryCrossEntropyBackward>)\n"
     ]
    }
   ],
   "source": [
    "# Train model\n",
    "\n",
    "n_epochs = 5000\n",
    "for i in range(n_epochs): # loop over epochs\n",
    "    # get data\n",
    "    X, y = get_batch_data()\n",
    "    \n",
    "    p = model(torch.Tensor(X).float())\n",
    "    lossval = loss(p, torch.Tensor(y).float())\n",
    "    \n",
    "    # Zero the gradients before running the backward pass\n",
    "    model.zero_grad()\n",
    "    \n",
    "    # Compute gradient of the loss with respect to all the learnable parameters of the model.\n",
    "    lossval.backward()\n",
    "    \n",
    "    opt.step()\n",
    "    if i % 100 == 0:\n",
    "        print(lossval)"
   ]
  },
  {
   "cell_type": "code",
   "execution_count": 6,
   "id": "f1e1bb42",
   "metadata": {},
   "outputs": [
    {
     "data": {
      "image/png": "[encoded data removed]",
      "text/plain": [
       "<Figure size 432x288 with 1 Axes>"
      ]
     },
     "metadata": {
      "needs_background": "light"
     },
     "output_type": "display_data"
    }
   ],
   "source": [
    "def evaluate():\n",
    "    x, y = gen_data(1000)\n",
    "    len_x = len(x)\n",
    "    x = np.array(x).reshape(len_x, 1)\n",
    "    y = np.array(y).reshape(len_x, 1)\n",
    "    xa = x[y==0]\n",
    "    xb = x[y==1]\n",
    "    c0, _, _ = plt.hist(xa, alpha = 0.5, label = 'xa', color = 'red')\n",
    "    c1, _, _ = plt.hist(xb, alpha = 0.5, label = 'xb', color = 'blue')\n",
    "    with torch.no_grad():\n",
    "        p = model(torch.Tensor(x))[:,0]\n",
    "    p = np.array(p)\n",
    "    y = y.reshape(1, len(y))[0]\n",
    "    _pp = p[y==1]\n",
    "    c2, _, _ = plt.hist(xb, alpha = 0.5, weights = (1-_pp)/_pp, label = 'xb reweighted to xa', color = 'yellow') \n",
    "    plt.legend()\n",
    "    plt.show()\n",
    "\n",
    "evaluate()"
   ]
  }
 ],
 "metadata": {
  "kernelspec": {
   "display_name": "Python 3 (ipykernel)",
   "language": "python",
   "name": "python3"
  },
  "language_info": {
   "codemirror_mode": {
    "name": "ipython",
    "version": 3
   },
   "file_extension": ".py",
   "mimetype": "text/x-python",
   "name": "python",
   "nbconvert_exporter": "python",
   "pygments_lexer": "ipython3",
   "version": "3.8.10"
  }
 },
 "nbformat": 4,
 "nbformat_minor": 5
}
