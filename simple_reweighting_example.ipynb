{
 "cells": [
  {
   "cell_type": "code",
   "execution_count": 1,
   "id": "7daf4432",
   "metadata": {},
   "outputs": [],
   "source": [
    "import torch\n",
    "import numpy as np\n",
    "import matplotlib.pyplot as plt\n",
    "from typing import Tuple, List\n",
    "import random"
   ]
  },
  {
   "cell_type": "code",
   "execution_count": 2,
   "id": "aa9df1ce",
   "metadata": {},
   "outputs": [
    {
     "name": "stdout",
     "output_type": "stream",
     "text": [
      "xa[:3] = [8.198986765291508, 9.627889364919339, 11.714361289626972]\n"
     ]
    },
    {
     "data": {
      "image/png": "[encoded data removed]",
      "text/plain": [
       "<Figure size 432x288 with 1 Axes>"
      ]
     },
     "metadata": {
      "needs_background": "light"
     },
     "output_type": "display_data"
    },
    {
     "name": "stdout",
     "output_type": "stream",
     "text": [
      "xb[:3] = [9.301529123447997, 11.735536657432005, 10.533793239633427]\n"
     ]
    },
    {
     "data": {
      "image/png": "[encoded data removed]",
      "text/plain": [
       "<Figure size 432x288 with 1 Axes>"
      ]
     },
     "metadata": {
      "needs_background": "light"
     },
     "output_type": "display_data"
    },
    {
     "name": "stdout",
     "output_type": "stream",
     "text": [
      "x = array([11.73239482, 11.1924574 , 10.04048776, ...,  9.98396   ,\n",
      "       10.83164259, 12.17083237])\n",
      "y = array([1., 1., 0., ..., 0., 1., 1.])\n"
     ]
    }
   ],
   "source": [
    "def gen_data(n: int = 1000, shuffle: bool = True, plot: bool = False, debug: bool = False) -> Tuple[List[float], List[float]]:\n",
    "    \"\"\"Generate n xa, xb numbers from Gaussian distributions\n",
    "    n xa numbers generated from Gaus(10, 1)\n",
    "    n xb numbers generated from Gaus(11, 1))\"\"\"\n",
    "    xa = [np.random.normal(10, 1) for i in range(n)]\n",
    "    ya = np.zeros_like(xa)\n",
    "    if debug:\n",
    "        print(f'{xa[:3] = }')\n",
    "    if plot:\n",
    "        c, _, _ = plt.hist(xa)\n",
    "        plt.show()\n",
    "\n",
    "    xb = [np.random.normal(11, 1) for i in range(n)]\n",
    "    yb = np.ones_like(xb)\n",
    "    if debug:\n",
    "        print(f'{xb[:3] = }')\n",
    "    if plot:\n",
    "        c, _, _ = plt.hist(xb)\n",
    "        plt.show()\n",
    "        \n",
    "    x = np.concatenate([xa,xb]) # targets\n",
    "    y = np.concatenate([ya,yb]) # labels\n",
    "    \n",
    "    # Shuffle coherently\n",
    "    if shuffle:\n",
    "        seed = random.randrange(10000)\n",
    "        random.seed(seed)\n",
    "        random.shuffle(x)\n",
    "        random.seed(seed)\n",
    "        random.shuffle(y)\n",
    "    \n",
    "    if debug:\n",
    "        print(f'{x = }')\n",
    "        print(f'{y = }')\n",
    "    return x, y\n",
    "\n",
    "# Testing\n",
    "_, _ = gen_data(1000, True, True, True)"
   ]
  },
  {
   "cell_type": "code",
   "execution_count": 3,
   "id": "3a92ff75",
   "metadata": {},
   "outputs": [
    {
     "name": "stdout",
     "output_type": "stream",
     "text": [
      "Sequential(\n",
      "  (0): Linear(in_features=1, out_features=100, bias=True)\n",
      "  (1): ReLU()\n",
      "  (2): Linear(in_features=100, out_features=100, bias=True)\n",
      "  (3): ReLU()\n",
      "  (4): Linear(in_features=100, out_features=1, bias=True)\n",
      "  (5): Sigmoid()\n",
      ")\n"
     ]
    }
   ],
   "source": [
    "# Make model\n",
    "\n",
    "import torch.nn as nn\n",
    "\n",
    "model = nn.Sequential(\n",
    "    nn.Linear(1, 100),\n",
    "    nn.ReLU(),\n",
    "    nn.Linear(100, 100),\n",
    "    nn.ReLU(),\n",
    "    nn.Linear(100, 1),\n",
    "    nn.Sigmoid()\n",
    ")\n",
    "\n",
    "# Print model\n",
    "print(model)\n",
    "\n",
    "loss = nn.BCELoss()\n",
    "\n",
    "from torch.optim import Adam\n",
    "\n",
    "opt = Adam(model.parameters(), lr = 1e-4) # lr: learning rate"
   ]
  },
  {
   "cell_type": "code",
   "execution_count": 4,
   "id": "12a424c2",
   "metadata": {},
   "outputs": [
    {
     "name": "stdout",
     "output_type": "stream",
     "text": [
      "x = array([[ 8.18097099],\n",
      "       [12.45231175],\n",
      "       [11.18998936],\n",
      "       [10.57230048],\n",
      "       [10.14635314],\n",
      "       [10.49238482],\n",
      "       [ 9.4066094 ],\n",
      "       [ 9.21827016],\n",
      "       [10.54784885],\n",
      "       [ 9.89409115]])\n",
      "y = array([[0.],\n",
      "       [1.],\n",
      "       [0.],\n",
      "       [1.],\n",
      "       [0.],\n",
      "       [1.],\n",
      "       [1.],\n",
      "       [0.],\n",
      "       [1.],\n",
      "       [0.]])\n"
     ]
    }
   ],
   "source": [
    "# Generate and prepare data\n",
    "\n",
    "def get_batch_data(batch_size: int = 2048, debug: bool = False) -> Tuple[np.ndarray, np.ndarray]:\n",
    "    x, y = gen_data(batch_size)\n",
    "    len_x = len(x)\n",
    "    x = np.array(x).reshape(len_x, 1)\n",
    "    y = np.array(y).reshape(len_x, 1)\n",
    "    if debug:\n",
    "        print(f'{x = }')\n",
    "        print(f'{y = }')\n",
    "    return x, y # targets, labels\n",
    "\n",
    "# Testing\n",
    "_, _ = get_batch_data(5, True)"
   ]
  },
  {
   "cell_type": "code",
   "execution_count": 5,
   "id": "dbefb5ce",
   "metadata": {},
   "outputs": [
    {
     "name": "stdout",
     "output_type": "stream",
     "text": [
      "tensor(0.8189, grad_fn=<BinaryCrossEntropyBackward>)\n",
      "tensor(0.6901, grad_fn=<BinaryCrossEntropyBackward>)\n",
      "tensor(0.6858, grad_fn=<BinaryCrossEntropyBackward>)\n",
      "tensor(0.6810, grad_fn=<BinaryCrossEntropyBackward>)\n",
      "tensor(0.6750, grad_fn=<BinaryCrossEntropyBackward>)\n",
      "tensor(0.6699, grad_fn=<BinaryCrossEntropyBackward>)\n",
      "tensor(0.6613, grad_fn=<BinaryCrossEntropyBackward>)\n",
      "tensor(0.6526, grad_fn=<BinaryCrossEntropyBackward>)\n",
      "tensor(0.6379, grad_fn=<BinaryCrossEntropyBackward>)\n",
      "tensor(0.6309, grad_fn=<BinaryCrossEntropyBackward>)\n",
      "tensor(0.6205, grad_fn=<BinaryCrossEntropyBackward>)\n",
      "tensor(0.6084, grad_fn=<BinaryCrossEntropyBackward>)\n",
      "tensor(0.5954, grad_fn=<BinaryCrossEntropyBackward>)\n",
      "tensor(0.5864, grad_fn=<BinaryCrossEntropyBackward>)\n",
      "tensor(0.5807, grad_fn=<BinaryCrossEntropyBackward>)\n",
      "tensor(0.5786, grad_fn=<BinaryCrossEntropyBackward>)\n",
      "tensor(0.5795, grad_fn=<BinaryCrossEntropyBackward>)\n",
      "tensor(0.5832, grad_fn=<BinaryCrossEntropyBackward>)\n",
      "tensor(0.5817, grad_fn=<BinaryCrossEntropyBackward>)\n",
      "tensor(0.5935, grad_fn=<BinaryCrossEntropyBackward>)\n",
      "tensor(0.5847, grad_fn=<BinaryCrossEntropyBackward>)\n",
      "tensor(0.5815, grad_fn=<BinaryCrossEntropyBackward>)\n",
      "tensor(0.5745, grad_fn=<BinaryCrossEntropyBackward>)\n",
      "tensor(0.5775, grad_fn=<BinaryCrossEntropyBackward>)\n",
      "tensor(0.5807, grad_fn=<BinaryCrossEntropyBackward>)\n",
      "tensor(0.5776, grad_fn=<BinaryCrossEntropyBackward>)\n",
      "tensor(0.5899, grad_fn=<BinaryCrossEntropyBackward>)\n",
      "tensor(0.5871, grad_fn=<BinaryCrossEntropyBackward>)\n",
      "tensor(0.5835, grad_fn=<BinaryCrossEntropyBackward>)\n",
      "tensor(0.5789, grad_fn=<BinaryCrossEntropyBackward>)\n",
      "tensor(0.5763, grad_fn=<BinaryCrossEntropyBackward>)\n",
      "tensor(0.5739, grad_fn=<BinaryCrossEntropyBackward>)\n",
      "tensor(0.5705, grad_fn=<BinaryCrossEntropyBackward>)\n",
      "tensor(0.5801, grad_fn=<BinaryCrossEntropyBackward>)\n",
      "tensor(0.5772, grad_fn=<BinaryCrossEntropyBackward>)\n",
      "tensor(0.5836, grad_fn=<BinaryCrossEntropyBackward>)\n",
      "tensor(0.5829, grad_fn=<BinaryCrossEntropyBackward>)\n",
      "tensor(0.5787, grad_fn=<BinaryCrossEntropyBackward>)\n",
      "tensor(0.5797, grad_fn=<BinaryCrossEntropyBackward>)\n",
      "tensor(0.5816, grad_fn=<BinaryCrossEntropyBackward>)\n",
      "tensor(0.5697, grad_fn=<BinaryCrossEntropyBackward>)\n",
      "tensor(0.5763, grad_fn=<BinaryCrossEntropyBackward>)\n",
      "tensor(0.5829, grad_fn=<BinaryCrossEntropyBackward>)\n",
      "tensor(0.5771, grad_fn=<BinaryCrossEntropyBackward>)\n",
      "tensor(0.5768, grad_fn=<BinaryCrossEntropyBackward>)\n",
      "tensor(0.5762, grad_fn=<BinaryCrossEntropyBackward>)\n",
      "tensor(0.5811, grad_fn=<BinaryCrossEntropyBackward>)\n",
      "tensor(0.5845, grad_fn=<BinaryCrossEntropyBackward>)\n",
      "tensor(0.5897, grad_fn=<BinaryCrossEntropyBackward>)\n",
      "tensor(0.5709, grad_fn=<BinaryCrossEntropyBackward>)\n"
     ]
    }
   ],
   "source": [
    "# Train model\n",
    "\n",
    "n_epochs = 5000\n",
    "for i in range(n_epochs): # loop over epochs\n",
    "    # get data\n",
    "    X, y = get_batch_data()\n",
    "    \n",
    "    p = model(torch.Tensor(X).float())\n",
    "    lossval = loss(p, torch.Tensor(y).float())\n",
    "    \n",
    "    # Zero the gradients before running the backward pass\n",
    "    model.zero_grad()\n",
    "    \n",
    "    # Compute gradient of the loss with respect to all the learnable parameters of the model.\n",
    "    lossval.backward()\n",
    "    \n",
    "    opt.step()\n",
    "    if i % 100 == 0:\n",
    "        print(lossval)"
   ]
  },
  {
   "cell_type": "code",
   "execution_count": 9,
   "id": "f1e1bb42",
   "metadata": {},
   "outputs": [
    {
     "data": {
      "image/png": "[encoded data removed]",
      "text/plain": [
       "<Figure size 432x288 with 1 Axes>"
      ]
     },
     "metadata": {
      "needs_background": "light"
     },
     "output_type": "display_data"
    }
   ],
   "source": [
    "def evaluate():\n",
    "    x, y = gen_data(1000)\n",
    "    len_x = len(x)\n",
    "    x = np.array(x).reshape(len_x, 1)\n",
    "    y = np.array(y).reshape(len_x, 1)\n",
    "    xa = x[y==0]\n",
    "    xb = x[y==1]\n",
    "    bins = np.linspace(5, 15, 10)\n",
    "    c0, _, _ = plt.hist(xa, bins = bins, alpha = 0.5, label = 'xa', color = 'red')\n",
    "    c1, _, _ = plt.hist(xb, bins = bins, alpha = 0.5, label = 'xb', color = 'blue')\n",
    "    with torch.no_grad():\n",
    "        p = model(torch.Tensor(x))[:,0]\n",
    "    p = np.array(p)\n",
    "    y = y.reshape(1, len(y))[0]\n",
    "    _pp = p[y==1]\n",
    "    c2, _, _ = plt.hist(xb, bins = bins, alpha = 0.5, weights = (1-_pp)/_pp, label = 'xb reweighted to xa', color = 'yellow') \n",
    "    plt.legend()\n",
    "    plt.show()\n",
    "\n",
    "evaluate()"
   ]
  },
  {
   "cell_type": "code",
   "execution_count": null,
   "id": "a18e920a",
   "metadata": {},
   "outputs": [],
   "source": []
  }
 ],
 "metadata": {
  "kernelspec": {
   "display_name": "Python 3 (ipykernel)",
   "language": "python",
   "name": "python3"
  },
  "language_info": {
   "codemirror_mode": {
    "name": "ipython",
    "version": 3
   },
   "file_extension": ".py",
   "mimetype": "text/x-python",
   "name": "python",
   "nbconvert_exporter": "python",
   "pygments_lexer": "ipython3",
   "version": "3.8.10"
  }
 },
 "nbformat": 4,
 "nbformat_minor": 5
}
