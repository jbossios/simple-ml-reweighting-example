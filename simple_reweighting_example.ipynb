{
 "cells": [
  {
   "cell_type": "code",
   "execution_count": 1,
   "id": "7daf4432",
   "metadata": {},
   "outputs": [],
   "source": [
    "import torch\n",
    "import numpy as np\n",
    "import matplotlib.pyplot as plt\n",
    "from typing import Tuple, List\n",
    "import random"
   ]
  },
  {
   "cell_type": "code",
   "execution_count": 2,
   "id": "aa9df1ce",
   "metadata": {},
   "outputs": [
    {
     "name": "stdout",
     "output_type": "stream",
     "text": [
      "xa[:3] = [10.484565538541808, 10.428421673471657, 10.229786118839147]\n"
     ]
    },
    {
     "data": {
      "image/png": "[encoded data removed]",
      "text/plain": [
       "<Figure size 432x288 with 1 Axes>"
      ]
     },
     "metadata": {
      "needs_background": "light"
     },
     "output_type": "display_data"
    },
    {
     "name": "stdout",
     "output_type": "stream",
     "text": [
      "xb[:3] = [11.645174608836575, 11.17775876215779, 10.655967545516154]\n"
     ]
    },
    {
     "data": {
      "image/png": "[encoded data removed]",
      "text/plain": [
       "<Figure size 432x288 with 1 Axes>"
      ]
     },
     "metadata": {
      "needs_background": "light"
     },
     "output_type": "display_data"
    },
    {
     "name": "stdout",
     "output_type": "stream",
     "text": [
      "x = array([11.64517461, 10.22978612, 11.65395513, 10.72887211, 10.65596755,\n",
      "       10.48456554, 11.17775876, 10.68579836, 10.42842167,  9.49265085])\n",
      "y = array([1., 0., 1., 0., 1., 0., 1., 1., 0., 0.])\n"
     ]
    }
   ],
   "source": [
    "def gen_data(n: int = 1000, shuffle: bool = True, plot: bool = False, debug: bool = False) -> Tuple[List[float], List[float]]:\n",
    "    \"\"\"Generate n xa, xb numbers from Gaussian distributions\n",
    "    n xa numbers generated from Gaus(10, 1)\n",
    "    n xb numbers generated from Gaus(11, 1))\"\"\"\n",
    "    xa = [np.random.normal(10, 1) for i in range(n)]\n",
    "    ya = np.zeros_like(xa)\n",
    "    if debug:\n",
    "        print(f'{xa[:3] = }')\n",
    "    if plot:\n",
    "        c, _, _ = plt.hist(xa)\n",
    "        plt.show()\n",
    "\n",
    "    xb = [np.random.normal(11, 1) for i in range(n)]\n",
    "    yb = np.ones_like(xb)\n",
    "    if debug:\n",
    "        print(f'{xb[:3] = }')\n",
    "    if plot:\n",
    "        c, _, _ = plt.hist(xb)\n",
    "        plt.show()\n",
    "        \n",
    "    x = np.concatenate([xa,xb]) # targets\n",
    "    y = np.concatenate([ya,yb]) # labels\n",
    "    \n",
    "    # Shuffle coherently\n",
    "    if shuffle:\n",
    "        seed = random.randrange(10000)\n",
    "        random.seed(seed)\n",
    "        random.shuffle(x)\n",
    "        random.seed(seed)\n",
    "        random.shuffle(y)\n",
    "    \n",
    "    if debug:\n",
    "        print(f'{x = }')\n",
    "        print(f'{y = }')\n",
    "    return x, y\n",
    "\n",
    "# Testing\n",
    "_, _ = gen_data(5, True, True, True)"
   ]
  },
  {
   "cell_type": "code",
   "execution_count": 3,
   "id": "3a92ff75",
   "metadata": {},
   "outputs": [
    {
     "name": "stdout",
     "output_type": "stream",
     "text": [
      "Sequential(\n",
      "  (0): Linear(in_features=1, out_features=100, bias=True)\n",
      "  (1): ReLU()\n",
      "  (2): Linear(in_features=100, out_features=100, bias=True)\n",
      "  (3): ReLU()\n",
      "  (4): Linear(in_features=100, out_features=1, bias=True)\n",
      "  (5): Sigmoid()\n",
      ")\n"
     ]
    }
   ],
   "source": [
    "# Make model\n",
    "\n",
    "import torch.nn as nn\n",
    "\n",
    "model = nn.Sequential(\n",
    "    nn.Linear(1, 100),\n",
    "    nn.ReLU(),\n",
    "    nn.Linear(100, 100),\n",
    "    nn.ReLU(),\n",
    "    nn.Linear(100, 1),\n",
    "    nn.Sigmoid()\n",
    ")\n",
    "\n",
    "# Print model\n",
    "print(model)\n",
    "\n",
    "loss = nn.BCELoss()\n",
    "\n",
    "from torch.optim import Adam\n",
    "\n",
    "opt = Adam(model.parameters(), lr = 1e-4) # lr: learning rate"
   ]
  },
  {
   "cell_type": "code",
   "execution_count": 4,
   "id": "12a424c2",
   "metadata": {},
   "outputs": [
    {
     "name": "stdout",
     "output_type": "stream",
     "text": [
      "x = array([[ 9.98243449],\n",
      "       [12.2623676 ],\n",
      "       [ 9.20631053],\n",
      "       [10.08687579],\n",
      "       [10.89280867],\n",
      "       [10.91621562],\n",
      "       [ 8.76195485],\n",
      "       [ 8.95619033],\n",
      "       [12.33378654],\n",
      "       [ 9.88633927]])\n",
      "y = array([[0.],\n",
      "       [1.],\n",
      "       [1.],\n",
      "       [0.],\n",
      "       [0.],\n",
      "       [1.],\n",
      "       [0.],\n",
      "       [0.],\n",
      "       [1.],\n",
      "       [1.]])\n"
     ]
    }
   ],
   "source": [
    "# Generate and prepare data\n",
    "\n",
    "def get_batch_data(batch_size: int = 2048, debug: bool = False) -> Tuple[np.ndarray, np.ndarray]:\n",
    "    x, y = gen_data(batch_size)\n",
    "    len_x = len(x)\n",
    "    x = np.array(x).reshape(len_x, 1)\n",
    "    y = np.array(y).reshape(len_x, 1)\n",
    "    if debug:\n",
    "        print(f'{x = }')\n",
    "        print(f'{y = }')\n",
    "    return x, y # targets, labels\n",
    "\n",
    "# Testing\n",
    "_, _ = get_batch_data(5, True)"
   ]
  },
  {
   "cell_type": "code",
   "execution_count": 5,
   "id": "dbefb5ce",
   "metadata": {},
   "outputs": [
    {
     "name": "stdout",
     "output_type": "stream",
     "text": [
      "tensor(0.7223, grad_fn=<BinaryCrossEntropyBackward>)\n",
      "tensor(0.6879, grad_fn=<BinaryCrossEntropyBackward>)\n",
      "tensor(0.6821, grad_fn=<BinaryCrossEntropyBackward>)\n",
      "tensor(0.6749, grad_fn=<BinaryCrossEntropyBackward>)\n",
      "tensor(0.6674, grad_fn=<BinaryCrossEntropyBackward>)\n",
      "tensor(0.6555, grad_fn=<BinaryCrossEntropyBackward>)\n",
      "tensor(0.6427, grad_fn=<BinaryCrossEntropyBackward>)\n",
      "tensor(0.6327, grad_fn=<BinaryCrossEntropyBackward>)\n",
      "tensor(0.6190, grad_fn=<BinaryCrossEntropyBackward>)\n",
      "tensor(0.6047, grad_fn=<BinaryCrossEntropyBackward>)\n",
      "tensor(0.5970, grad_fn=<BinaryCrossEntropyBackward>)\n",
      "tensor(0.5909, grad_fn=<BinaryCrossEntropyBackward>)\n",
      "tensor(0.5909, grad_fn=<BinaryCrossEntropyBackward>)\n",
      "tensor(0.5787, grad_fn=<BinaryCrossEntropyBackward>)\n",
      "tensor(0.5806, grad_fn=<BinaryCrossEntropyBackward>)\n",
      "tensor(0.5719, grad_fn=<BinaryCrossEntropyBackward>)\n",
      "tensor(0.5840, grad_fn=<BinaryCrossEntropyBackward>)\n",
      "tensor(0.5811, grad_fn=<BinaryCrossEntropyBackward>)\n",
      "tensor(0.5709, grad_fn=<BinaryCrossEntropyBackward>)\n",
      "tensor(0.5686, grad_fn=<BinaryCrossEntropyBackward>)\n",
      "tensor(0.5801, grad_fn=<BinaryCrossEntropyBackward>)\n",
      "tensor(0.5677, grad_fn=<BinaryCrossEntropyBackward>)\n",
      "tensor(0.5830, grad_fn=<BinaryCrossEntropyBackward>)\n",
      "tensor(0.5872, grad_fn=<BinaryCrossEntropyBackward>)\n",
      "tensor(0.5778, grad_fn=<BinaryCrossEntropyBackward>)\n",
      "tensor(0.5760, grad_fn=<BinaryCrossEntropyBackward>)\n",
      "tensor(0.5791, grad_fn=<BinaryCrossEntropyBackward>)\n",
      "tensor(0.5852, grad_fn=<BinaryCrossEntropyBackward>)\n",
      "tensor(0.5811, grad_fn=<BinaryCrossEntropyBackward>)\n",
      "tensor(0.5877, grad_fn=<BinaryCrossEntropyBackward>)\n",
      "tensor(0.5843, grad_fn=<BinaryCrossEntropyBackward>)\n",
      "tensor(0.5730, grad_fn=<BinaryCrossEntropyBackward>)\n",
      "tensor(0.5867, grad_fn=<BinaryCrossEntropyBackward>)\n",
      "tensor(0.5919, grad_fn=<BinaryCrossEntropyBackward>)\n",
      "tensor(0.5810, grad_fn=<BinaryCrossEntropyBackward>)\n",
      "tensor(0.5800, grad_fn=<BinaryCrossEntropyBackward>)\n",
      "tensor(0.5867, grad_fn=<BinaryCrossEntropyBackward>)\n",
      "tensor(0.5862, grad_fn=<BinaryCrossEntropyBackward>)\n",
      "tensor(0.5795, grad_fn=<BinaryCrossEntropyBackward>)\n",
      "tensor(0.5781, grad_fn=<BinaryCrossEntropyBackward>)\n",
      "tensor(0.5862, grad_fn=<BinaryCrossEntropyBackward>)\n",
      "tensor(0.5853, grad_fn=<BinaryCrossEntropyBackward>)\n",
      "tensor(0.5867, grad_fn=<BinaryCrossEntropyBackward>)\n",
      "tensor(0.5970, grad_fn=<BinaryCrossEntropyBackward>)\n",
      "tensor(0.5749, grad_fn=<BinaryCrossEntropyBackward>)\n",
      "tensor(0.5768, grad_fn=<BinaryCrossEntropyBackward>)\n",
      "tensor(0.5812, grad_fn=<BinaryCrossEntropyBackward>)\n",
      "tensor(0.5809, grad_fn=<BinaryCrossEntropyBackward>)\n",
      "tensor(0.5695, grad_fn=<BinaryCrossEntropyBackward>)\n",
      "tensor(0.5876, grad_fn=<BinaryCrossEntropyBackward>)\n"
     ]
    }
   ],
   "source": [
    "# Train model\n",
    "\n",
    "n_epochs = 5000\n",
    "for i in range(n_epochs): # loop over epochs\n",
    "    # get data\n",
    "    X, y = get_batch_data()\n",
    "    \n",
    "    p = model(torch.Tensor(X).float())\n",
    "    lossval = loss(p, torch.Tensor(y).float())\n",
    "    \n",
    "    # Zero the gradients before running the backward pass\n",
    "    model.zero_grad()\n",
    "    \n",
    "    # Compute gradient of the loss with respect to all the learnable parameters of the model.\n",
    "    lossval.backward()\n",
    "    \n",
    "    opt.step()\n",
    "    if i % 100 == 0:\n",
    "        print(lossval)"
   ]
  },
  {
   "cell_type": "code",
   "execution_count": 6,
   "id": "f1e1bb42",
   "metadata": {},
   "outputs": [
    {
     "data": {
      "image/png": "[encoded data removed]",
      "text/plain": [
       "<Figure size 432x288 with 1 Axes>"
      ]
     },
     "metadata": {
      "needs_background": "light"
     },
     "output_type": "display_data"
    }
   ],
   "source": [
    "def evaluate():\n",
    "    x, y = gen_data(1000)\n",
    "    len_x = len(x)\n",
    "    x = np.array(x).reshape(len_x, 1)\n",
    "    y = np.array(y).reshape(len_x, 1)\n",
    "    xa = x[y==0]\n",
    "    xb = x[y==1]\n",
    "    c0, _, _ = plt.hist(xa, alpha = 0.5, label = 'xa', color = 'red')\n",
    "    c1, _, _ = plt.hist(xb, alpha = 0.5, label = 'xb', color = 'blue')\n",
    "    with torch.no_grad():\n",
    "        p = model(torch.Tensor(x))[:,0]\n",
    "    p = np.array(p)\n",
    "    y = y.reshape(1, len(y))[0]\n",
    "    _pp = p[y==1]\n",
    "    c2, _, _ = plt.hist(xb, alpha = 0.5, weights = (1-_pp)/_pp, label = 'xb reweighted to xa', color = 'yellow') \n",
    "    plt.legend()\n",
    "    plt.show()\n",
    "\n",
    "evaluate()"
   ]
  }
 ],
 "metadata": {
  "kernelspec": {
   "display_name": "Python 3 (ipykernel)",
   "language": "python",
   "name": "python3"
  },
  "language_info": {
   "codemirror_mode": {
    "name": "ipython",
    "version": 3
   },
   "file_extension": ".py",
   "mimetype": "text/x-python",
   "name": "python",
   "nbconvert_exporter": "python",
   "pygments_lexer": "ipython3",
   "version": "3.8.10"
  }
 },
 "nbformat": 4,
 "nbformat_minor": 5
}
